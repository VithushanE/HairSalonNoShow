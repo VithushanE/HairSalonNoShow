{
 "cells": [
  {
   "cell_type": "code",
   "execution_count": 2,
   "id": "74e9b126-794d-4087-b5c8-d2b4ff6cd1e6",
   "metadata": {},
   "outputs": [],
   "source": [
    "import pandas as pd \n",
    "import numpy as np \n",
    "\n",
    "client_cancel = pd.read_csv('./Client Cancellations0.csv')\n",
    "future_book = pd.read_csv('./Future Bookings (All Clients)0.csv')\n",
    "hair_salon = pd.read_csv('./hair_salon_no_show_wrangled_df.csv')\n",
    "product_listing= pd.read_csv('./Product Listing (Retail)0.csv')\n",
    "no_show = pd.read_csv('./No-Show Report0.csv')\n",
    "receipt_transaction = pd.read_csv('./Receipt Transactions0.csv')\n",
    "service_listing = pd.read_csv('./Service Listing0.csv')"
   ]
  },
  {
   "cell_type": "code",
   "execution_count": 8,
   "id": "b9f3920a-0092-40db-a6ef-16526034c393",
   "metadata": {},
   "outputs": [
    {
     "name": "stdout",
     "output_type": "stream",
     "text": [
      "Cancel Date     False\n",
      "Code            False\n",
      "Service         False\n",
      "Staff           False\n",
      "Booking Date    False\n",
      "Canceled By     False\n",
      "Days             True\n",
      "dtype: bool\n",
      "\n",
      "\n",
      "Code        True\n",
      "Staff      False\n",
      "Service    False\n",
      "Date       False\n",
      "Time       False\n",
      "TimeInt    False\n",
      "dtype: bool\n",
      "\n",
      "\n",
      "Unnamed: 0           False\n",
      "book_tod              True\n",
      "book_dow             False\n",
      "book_category        False\n",
      "book_staff           False\n",
      "last_category         True\n",
      "last_staff            True\n",
      "last_day_services    False\n",
      "last_receipt_tot     False\n",
      "last_dow              True\n",
      "last_tod              True\n",
      "last_noshow          False\n",
      "last_prod_flag       False\n",
      "last_cumrev          False\n",
      "last_cumbook         False\n",
      "last_cumstyle        False\n",
      "last_cumcolor        False\n",
      "last_cumprod         False\n",
      "last_cumcancel       False\n",
      "last_cumnoshow       False\n",
      "noshow               False\n",
      "recency              False\n",
      "dtype: bool\n",
      "\n",
      "\n",
      "Date       False\n",
      "Code        True\n",
      "Service    False\n",
      "Staff      False\n",
      "dtype: bool\n",
      "\n",
      "\n",
      "Receipt        False\n",
      "Date           False\n",
      "Description     True\n",
      "Client         False\n",
      "Staff          False\n",
      "Quantity       False\n",
      "Amount         False\n",
      "GST            False\n",
      "PST            False\n",
      "dtype: bool\n",
      "\n",
      "\n",
      "IsActive    False\n",
      "Code        False\n",
      "Desc         True\n",
      "Cate        False\n",
      "Price       False\n",
      "Cost        False\n",
      "dtype: bool\n"
     ]
    }
   ],
   "source": [
    "# Data Cleaning \n",
    "\n",
    "print(client_cancel.isna().any())\n",
    "print('\\n')\n",
    "print(future_book.isna().any())\n",
    "print('\\n')\n",
    "print(hair_salon.isna().any())\n",
    "print('\\n')\n",
    "print(no_show.isna().any())\n",
    "print('\\n')\n",
    "print(receipt_transaction.isna().any())\n",
    "print('\\n')\n",
    "print(service_listing.isna().any())"
   ]
  },
  {
   "cell_type": "code",
   "execution_count": 46,
   "id": "0ccac254-900a-4dce-8963-f47c87d7a293",
   "metadata": {},
   "outputs": [],
   "source": [
    "# Dropping missing values for each Data Table"
   ]
  },
  {
   "cell_type": "code",
   "execution_count": 26,
   "id": "9930ad83-42a7-4391-86cf-336e72dc2ec0",
   "metadata": {},
   "outputs": [
    {
     "data": {
      "text/html": [
       "<div>\n",
       "<style scoped>\n",
       "    .dataframe tbody tr th:only-of-type {\n",
       "        vertical-align: middle;\n",
       "    }\n",
       "\n",
       "    .dataframe tbody tr th {\n",
       "        vertical-align: top;\n",
       "    }\n",
       "\n",
       "    .dataframe thead th {\n",
       "        text-align: right;\n",
       "    }\n",
       "</style>\n",
       "<table border=\"1\" class=\"dataframe\">\n",
       "  <thead>\n",
       "    <tr style=\"text-align: right;\">\n",
       "      <th></th>\n",
       "      <th>Cancel Date</th>\n",
       "      <th>Code</th>\n",
       "      <th>Service</th>\n",
       "      <th>Staff</th>\n",
       "      <th>Booking Date</th>\n",
       "      <th>Canceled By</th>\n",
       "      <th>Days</th>\n",
       "    </tr>\n",
       "  </thead>\n",
       "  <tbody>\n",
       "    <tr>\n",
       "      <th>0</th>\n",
       "      <td>05/22/2018</td>\n",
       "      <td>MASA01</td>\n",
       "      <td>CFC</td>\n",
       "      <td>JOANNE</td>\n",
       "      <td>05/24/2018</td>\n",
       "      <td>ADMIN</td>\n",
       "      <td>2.0</td>\n",
       "    </tr>\n",
       "    <tr>\n",
       "      <th>1</th>\n",
       "      <td>06/27/2018</td>\n",
       "      <td>MASA01</td>\n",
       "      <td>CBAL</td>\n",
       "      <td>KELLY</td>\n",
       "      <td>06/27/2018</td>\n",
       "      <td>ADMIN</td>\n",
       "      <td>0.0</td>\n",
       "    </tr>\n",
       "    <tr>\n",
       "      <th>2</th>\n",
       "      <td>07/03/2018</td>\n",
       "      <td>MASA01</td>\n",
       "      <td>SHCM</td>\n",
       "      <td>BECKY</td>\n",
       "      <td>07/10/2018</td>\n",
       "      <td>BECKY</td>\n",
       "      <td>7.0</td>\n",
       "    </tr>\n",
       "    <tr>\n",
       "      <th>3</th>\n",
       "      <td>07/10/2018</td>\n",
       "      <td>MASA01</td>\n",
       "      <td>SHCC</td>\n",
       "      <td>JJ</td>\n",
       "      <td>07/11/2018</td>\n",
       "      <td>KELLY</td>\n",
       "      <td>1.0</td>\n",
       "    </tr>\n",
       "    <tr>\n",
       "      <th>4</th>\n",
       "      <td>07/24/2018</td>\n",
       "      <td>TRUA01</td>\n",
       "      <td>SHCM</td>\n",
       "      <td>KELLY</td>\n",
       "      <td>07/24/2018</td>\n",
       "      <td>TANYA</td>\n",
       "      <td>0.0</td>\n",
       "    </tr>\n",
       "    <tr>\n",
       "      <th>...</th>\n",
       "      <td>...</td>\n",
       "      <td>...</td>\n",
       "      <td>...</td>\n",
       "      <td>...</td>\n",
       "      <td>...</td>\n",
       "      <td>...</td>\n",
       "      <td>...</td>\n",
       "    </tr>\n",
       "    <tr>\n",
       "      <th>238</th>\n",
       "      <td>05/06/2018</td>\n",
       "      <td>ROUT01</td>\n",
       "      <td>SBD</td>\n",
       "      <td>JJ</td>\n",
       "      <td>05/06/2018</td>\n",
       "      <td>JJ</td>\n",
       "      <td>0.0</td>\n",
       "    </tr>\n",
       "    <tr>\n",
       "      <th>239</th>\n",
       "      <td>06/07/2018</td>\n",
       "      <td>ALCV01</td>\n",
       "      <td>CFC</td>\n",
       "      <td>KELLY</td>\n",
       "      <td>06/07/2018</td>\n",
       "      <td>KELLY</td>\n",
       "      <td>0.0</td>\n",
       "    </tr>\n",
       "    <tr>\n",
       "      <th>240</th>\n",
       "      <td>06/26/2018</td>\n",
       "      <td>FISV01</td>\n",
       "      <td>CFC</td>\n",
       "      <td>JOANNE</td>\n",
       "      <td>06/30/2018</td>\n",
       "      <td>JJ</td>\n",
       "      <td>4.0</td>\n",
       "    </tr>\n",
       "    <tr>\n",
       "      <th>241</th>\n",
       "      <td>05/04/2018</td>\n",
       "      <td>MCGV01</td>\n",
       "      <td>SBD</td>\n",
       "      <td>BECKY</td>\n",
       "      <td>05/04/2018</td>\n",
       "      <td>JJ</td>\n",
       "      <td>0.0</td>\n",
       "    </tr>\n",
       "    <tr>\n",
       "      <th>242</th>\n",
       "      <td>05/18/2018</td>\n",
       "      <td>MIRY01</td>\n",
       "      <td>CDPB</td>\n",
       "      <td>JOANNE</td>\n",
       "      <td>05/19/2018</td>\n",
       "      <td>JOANNE</td>\n",
       "      <td>1.0</td>\n",
       "    </tr>\n",
       "  </tbody>\n",
       "</table>\n",
       "<p>241 rows × 7 columns</p>\n",
       "</div>"
      ],
      "text/plain": [
       "    Cancel Date    Code Service   Staff Booking Date Canceled By  Days\n",
       "0    05/22/2018  MASA01     CFC  JOANNE   05/24/2018       ADMIN   2.0\n",
       "1    06/27/2018  MASA01    CBAL   KELLY   06/27/2018       ADMIN   0.0\n",
       "2    07/03/2018  MASA01    SHCM   BECKY   07/10/2018       BECKY   7.0\n",
       "3    07/10/2018  MASA01    SHCC      JJ   07/11/2018       KELLY   1.0\n",
       "4    07/24/2018  TRUA01    SHCM   KELLY   07/24/2018       TANYA   0.0\n",
       "..          ...     ...     ...     ...          ...         ...   ...\n",
       "238  05/06/2018  ROUT01     SBD      JJ   05/06/2018          JJ   0.0\n",
       "239  06/07/2018  ALCV01     CFC   KELLY   06/07/2018       KELLY   0.0\n",
       "240  06/26/2018  FISV01     CFC  JOANNE   06/30/2018          JJ   4.0\n",
       "241  05/04/2018  MCGV01     SBD   BECKY   05/04/2018          JJ   0.0\n",
       "242  05/18/2018  MIRY01    CDPB  JOANNE   05/19/2018      JOANNE   1.0\n",
       "\n",
       "[241 rows x 7 columns]"
      ]
     },
     "execution_count": 26,
     "metadata": {},
     "output_type": "execute_result"
    }
   ],
   "source": [
    "# CLIENT CANCELLATION TABLE \n",
    "client_cancel2 = client_cancel.copy()\n",
    "\n",
    "client_cancel2 = client_cancel2.dropna()\n",
    "client_cancel2"
   ]
  },
  {
   "cell_type": "code",
   "execution_count": 30,
   "id": "45100b43-dc44-4d9b-ac6f-e91cdea7c2a9",
   "metadata": {
    "scrolled": true
   },
   "outputs": [
    {
     "data": {
      "text/plain": [
       "Cancel Date     False\n",
       "Code            False\n",
       "Service         False\n",
       "Staff           False\n",
       "Booking Date    False\n",
       "Canceled By     False\n",
       "Days            False\n",
       "dtype: bool"
      ]
     },
     "execution_count": 30,
     "metadata": {},
     "output_type": "execute_result"
    }
   ],
   "source": [
    "# Checking If any Null values exists\n",
    "client_cancel2.isna().any()\n"
   ]
  },
  {
   "cell_type": "code",
   "execution_count": 42,
   "id": "a7cb10d1-ab24-4daf-9495-d1214a106474",
   "metadata": {},
   "outputs": [
    {
     "name": "stdout",
     "output_type": "stream",
     "text": [
      "Code       1\n",
      "Staff      0\n",
      "Service    0\n",
      "Date       0\n",
      "Time       0\n",
      "TimeInt    0\n",
      "dtype: int64\n",
      "     Code Staff Service        Date         Time  TimeInt\n",
      "0  JUNJ01    JJ     CON  03/14/2018   3:50:00 PM      950\n",
      "1  NORJ01    JJ    SHCM  03/14/2018   4:00:00 PM      960\n",
      "2  CORS01    JJ    SHCW  03/15/2018   2:10:00 PM      850\n",
      "3  KERT01    JJ    SHCW  03/15/2018  10:00:00 AM      600\n",
      "4  LEHJ01    JJ    SHCM  03/15/2018   6:00:00 PM     1080\n"
     ]
    }
   ],
   "source": [
    "# FUTURE BOOKING TABLE\n",
    "print(future_book.isna().sum())\n",
    "print(future_book.head())"
   ]
  },
  {
   "cell_type": "code",
   "execution_count": 44,
   "id": "925cd168-fb98-4848-8337-b924d7d380bf",
   "metadata": {},
   "outputs": [
    {
     "data": {
      "text/plain": [
       "Code       0\n",
       "Staff      0\n",
       "Service    0\n",
       "Date       0\n",
       "Time       0\n",
       "TimeInt    0\n",
       "dtype: int64"
      ]
     },
     "execution_count": 44,
     "metadata": {},
     "output_type": "execute_result"
    }
   ],
   "source": [
    "# Checking if null values exist  \n",
    "future_book2 = future_book.copy()\n",
    "future_book2 = future_book2.dropna()\n",
    "future_book2.isna().sum()"
   ]
  },
  {
   "cell_type": "code",
   "execution_count": 88,
   "id": "d7faa174-b603-4e59-939a-ae8d4a4eaa5b",
   "metadata": {},
   "outputs": [
    {
     "name": "stdout",
     "output_type": "stream",
     "text": [
      "Unnamed: 0              0\n",
      "book_tod              235\n",
      "book_dow                0\n",
      "book_category           0\n",
      "book_staff              0\n",
      "last_category         949\n",
      "last_staff            949\n",
      "last_day_services       0\n",
      "last_receipt_tot        0\n",
      "last_dow              949\n",
      "last_tod             1094\n",
      "last_noshow             0\n",
      "last_prod_flag          0\n",
      "last_cumrev             0\n",
      "last_cumbook            0\n",
      "last_cumstyle           0\n",
      "last_cumcolor           0\n",
      "last_cumprod            0\n",
      "last_cumcancel          0\n",
      "last_cumnoshow          0\n",
      "noshow                  0\n",
      "recency                 0\n",
      "dtype: int64\n",
      "(1952, 22)\n",
      "\n",
      "\n",
      "last_staff\n",
      "JJ        355\n",
      "BECKY     228\n",
      "JOANNE    169\n",
      "SINEAD    134\n",
      "KELLY      97\n",
      "HOUSE      16\n",
      "TANYA       4\n",
      "Name: count, dtype: int64\n",
      "\n",
      "\n",
      "[nan 'JOANNE' 'KELLY' 'BECKY' 'HOUSE' 'JJ' 'SINEAD' 'TANYA']\n"
     ]
    },
    {
     "data": {
      "text/plain": [
       "949"
      ]
     },
     "execution_count": 88,
     "metadata": {},
     "output_type": "execute_result"
    }
   ],
   "source": [
    "# HAIR SALAON TABLE\n",
    "print(hair_salon.isna().sum())\n",
    "print(hair_salon.shape)\n",
    "print('\\n')\n",
    "hair_salon[['last_category','last_staff']].head(30)\n",
    "\n",
    "print(hair_salon['last_staff'].value_counts())\n",
    "print('\\n')\n",
    "print(hair_salon['last_staff'].unique())\n",
    "\n",
    "hair_salon['last_staff'].isna().sum()\n",
    "\n",
    "# hair_salon[['book_tod','last_category','last_staff', 'last_dow', 'last_tod']]"
   ]
  },
  {
   "cell_type": "code",
   "execution_count": 62,
   "id": "0ce05051-f1aa-4c77-b0b8-fa7dbe993e71",
   "metadata": {},
   "outputs": [
    {
     "name": "stdout",
     "output_type": "stream",
     "text": [
      "0.5604508196721312\n",
      "0.12038934426229508\n",
      "0.48616803278688525\n"
     ]
    }
   ],
   "source": [
    "print(1094/1952)\n",
    "print(235/1952)\n",
    "print(949/1952)"
   ]
  },
  {
   "cell_type": "code",
   "execution_count": 96,
   "id": "f55626ec-4483-4f93-87ce-7972c74b727f",
   "metadata": {},
   "outputs": [
    {
     "name": "stdout",
     "output_type": "stream",
     "text": [
      "Date       False\n",
      "Code        True\n",
      "Service    False\n",
      "Staff      False\n",
      "dtype: bool\n",
      "(60, 4)\n",
      "(59, 4)\n"
     ]
    }
   ],
   "source": [
    "print(no_show.isna().any())\n",
    "print(no_show.shape)\n",
    "\n",
    "no_show2 = no_show.copy()\n",
    "no_show2 = no_show2.dropna()\n",
    "\n",
    "print(no_show2.shape)"
   ]
  },
  {
   "cell_type": "code",
   "execution_count": null,
   "id": "88c5493b-6fd9-4c6b-99c8-2dbf2f5044bd",
   "metadata": {},
   "outputs": [],
   "source": [
    "print(receipt_transaction.isna().any())"
   ]
  },
  {
   "cell_type": "code",
   "execution_count": null,
   "id": "cd713139-4fa9-454b-93b2-2a7304bfbaf4",
   "metadata": {},
   "outputs": [],
   "source": [
    "print(service_listing.isna().any())"
   ]
  }
 ],
 "metadata": {
  "kernelspec": {
   "display_name": "Python [conda env:base] *",
   "language": "python",
   "name": "conda-base-py"
  },
  "language_info": {
   "codemirror_mode": {
    "name": "ipython",
    "version": 3
   },
   "file_extension": ".py",
   "mimetype": "text/x-python",
   "name": "python",
   "nbconvert_exporter": "python",
   "pygments_lexer": "ipython3",
   "version": "3.12.7"
  }
 },
 "nbformat": 4,
 "nbformat_minor": 5
}
